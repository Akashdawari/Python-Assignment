{
 "cells": [
  {
   "cell_type": "raw",
   "id": "ccec3941",
   "metadata": {},
   "source": [
    "1.1 Write a Python Program to implement your own myreduce() function which works exactly\n",
    "like Python's built-in function reduce()"
   ]
  },
  {
   "cell_type": "code",
   "execution_count": 30,
   "id": "3a34c34c",
   "metadata": {},
   "outputs": [
    {
     "name": "stdout",
     "output_type": "stream",
     "text": [
      "720 21\n"
     ]
    }
   ],
   "source": [
    "# USING OWN FUNCTION:\n",
    "\n",
    "def myreduce(lm, A):  # this function can work exactly same as inbuilt function \"functoolsreduce\"\n",
    "    val=A[0]\n",
    "    for i in A[1:]:\n",
    "        val=lm(val,i)\n",
    "    return val\n",
    "\n",
    "def sm(x,y):      \n",
    "    return x+y\n",
    "\n",
    "l = [1,2,3,4,5,6]\n",
    "\n",
    "multi_list = myreduce(lambda x,y : x*y, l)  # using in-line function \"LAMBDA\"\n",
    "sum_list = myreduce(sm, l)                  # using normal function\n",
    "\n",
    "print(multi_list, sum_list)"
   ]
  },
  {
   "cell_type": "code",
   "execution_count": null,
   "id": "a7180aa8",
   "metadata": {},
   "outputs": [],
   "source": []
  },
  {
   "cell_type": "raw",
   "id": "f55cb9a8",
   "metadata": {},
   "source": [
    "1.2 Write a Python program to implement your own myfilter() function which works exactly\n",
    "like Python's built-in function filter()"
   ]
  },
  {
   "cell_type": "code",
   "execution_count": 34,
   "id": "329b90e8",
   "metadata": {},
   "outputs": [
    {
     "name": "stdout",
     "output_type": "stream",
     "text": [
      "[2, 4, 6, 8]\n"
     ]
    }
   ],
   "source": [
    "\n",
    "lt = [1,2,3,4,5,6,7,8]\n",
    "\n",
    "# even_list = list(filter(lambda x: x%2==0, lt)) # Using in-built function\n",
    "\n",
    "def myfilter(fun, A):\n",
    "    nlt=[]\n",
    "    for i in A:\n",
    "        if fun(i):\n",
    "            yield i\n",
    "\n",
    "even_gen = myfilter(lambda x: x%2==0, lt)\n",
    "\n",
    "print(list(even_gen))\n"
   ]
  },
  {
   "cell_type": "code",
   "execution_count": null,
   "id": "26a2c701",
   "metadata": {},
   "outputs": [],
   "source": []
  },
  {
   "cell_type": "raw",
   "id": "b2523940",
   "metadata": {},
   "source": [
    "2. Implement List comprehensions to produce the following lists.\n",
    "Write List comprehensions to produce the following Lists"
   ]
  },
  {
   "cell_type": "code",
   "execution_count": 35,
   "id": "235e73ee",
   "metadata": {},
   "outputs": [
    {
     "name": "stdout",
     "output_type": "stream",
     "text": [
      "['x', 'xx', 'xxx', 'y', 'yy', 'yyy', 'z', 'zz', 'zzz']\n"
     ]
    }
   ],
   "source": [
    "lt = [i*j for i in \"xyz\" for j in range(1,4)]\n",
    "print(lt)"
   ]
  },
  {
   "cell_type": "code",
   "execution_count": 36,
   "id": "06b6212d",
   "metadata": {},
   "outputs": [
    {
     "name": "stdout",
     "output_type": "stream",
     "text": [
      "['x', 'y', 'z', 'xx', 'yy', 'zz', 'xxx', 'yyy', 'zzz']\n"
     ]
    }
   ],
   "source": [
    "lt = [i*j for i in range(1,4) for j in \"xyz\"]\n",
    "print(lt)"
   ]
  },
  {
   "cell_type": "code",
   "execution_count": 37,
   "id": "1aaae0a3",
   "metadata": {},
   "outputs": [
    {
     "name": "stdout",
     "output_type": "stream",
     "text": [
      "[[2], [3], [4], [3], [4], [5], [4], [5], [6]]\n"
     ]
    }
   ],
   "source": [
    "lt = [[j] for i in range(3) for j in range(i+2, i+5)]\n",
    "print(lt)"
   ]
  },
  {
   "cell_type": "code",
   "execution_count": 57,
   "id": "05220f20",
   "metadata": {},
   "outputs": [
    {
     "name": "stdout",
     "output_type": "stream",
     "text": [
      "[[1, 2, 3, 4], [2, 3, 4, 5], [3, 4, 5, 6], [4, 5, 6, 7], [5, 6, 7, 8]]\n"
     ]
    }
   ],
   "source": [
    "x=2\n",
    "y=6\n",
    "lt = [[i+j for i in range(1,5)] for j in range(5) ]\n",
    "print(lt)"
   ]
  },
  {
   "cell_type": "code",
   "execution_count": 54,
   "id": "ce08ec21",
   "metadata": {},
   "outputs": [
    {
     "name": "stdout",
     "output_type": "stream",
     "text": [
      "[(1, 1), (2, 1), (3, 1), (4, 1), (1, 2), (2, 2), (3, 2), (4, 2), (1, 3), (2, 3), (3, 3), (4, 3)]\n"
     ]
    }
   ],
   "source": [
    "lt = [(j,i) for i in range(1,4) for j in range(1, 4)]\n",
    "print(lt)"
   ]
  },
  {
   "cell_type": "code",
   "execution_count": null,
   "id": "4f2eef4d",
   "metadata": {},
   "outputs": [],
   "source": []
  }
 ],
 "metadata": {
  "kernelspec": {
   "display_name": "Python 3 (ipykernel)",
   "language": "python",
   "name": "python3"
  },
  "language_info": {
   "codemirror_mode": {
    "name": "ipython",
    "version": 3
   },
   "file_extension": ".py",
   "mimetype": "text/x-python",
   "name": "python",
   "nbconvert_exporter": "python",
   "pygments_lexer": "ipython3",
   "version": "3.9.7"
  }
 },
 "nbformat": 4,
 "nbformat_minor": 5
}
