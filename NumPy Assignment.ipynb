{
 "cells": [
  {
   "cell_type": "markdown",
   "id": "3fa59269",
   "metadata": {},
   "source": [
    "# NumPy Assignment"
   ]
  },
  {
   "cell_type": "code",
   "execution_count": 1,
   "id": "6c68726f",
   "metadata": {},
   "outputs": [],
   "source": [
    "import numpy as np"
   ]
  },
  {
   "cell_type": "markdown",
   "id": "0e38b445",
   "metadata": {},
   "source": [
    "1. Write a function so that the columns of the output matrix are powers of the input\n",
    "vector."
   ]
  },
  {
   "cell_type": "code",
   "execution_count": 40,
   "id": "ae232e57",
   "metadata": {},
   "outputs": [
    {
     "data": {
      "text/plain": [
       "array([[   1,    1,    1,    1,    1,    1],\n",
       "       [  32,   16,    8,    4,    2,    1],\n",
       "       [ 243,   81,   27,    9,    3,    1],\n",
       "       [1024,  256,   64,   16,    4,    1],\n",
       "       [3125,  625,  125,   25,    5,    1],\n",
       "       [7776, 1296,  216,   36,    6,    1]])"
      ]
     },
     "execution_count": 40,
     "metadata": {},
     "output_type": "execute_result"
    }
   ],
   "source": [
    "\n",
    "def atv(x, k=0, acending=False):\n",
    "    \n",
    "    \"Generate a Vandermonde matrix.\"\n",
    "    res = []\n",
    "    try:\n",
    "        if np.ndim(x) != 1:\n",
    "            raise\n",
    "        n = np.size(x)\n",
    "        if k==0:\n",
    "            k=n\n",
    "        for i in range(n):\n",
    "            lt = []\n",
    "            if acending:\n",
    "                for j in range(k):\n",
    "                    lt += [x[i]**j]\n",
    "            else:\n",
    "                for j in range(k):\n",
    "                    lt = [x[i]**j]+lt\n",
    "            res.append(lt)\n",
    "        return np.array(res)\n",
    "    except:\n",
    "        print(\"Dimension of array must be 1\")\n",
    "\n",
    "arr = np.array([1,2,3,4,5,6])\n",
    "atv(arr)"
   ]
  },
  {
   "cell_type": "code",
   "execution_count": 41,
   "id": "ae520f9b",
   "metadata": {},
   "outputs": [
    {
     "data": {
      "text/plain": [
       "array([[   1,    1,    1,    1,    1,    1],\n",
       "       [  32,   16,    8,    4,    2,    1],\n",
       "       [ 243,   81,   27,    9,    3,    1],\n",
       "       [1024,  256,   64,   16,    4,    1],\n",
       "       [3125,  625,  125,   25,    5,    1],\n",
       "       [7776, 1296,  216,   36,    6,    1]])"
      ]
     },
     "execution_count": 41,
     "metadata": {},
     "output_type": "execute_result"
    }
   ],
   "source": [
    "# inbuilt function::\n",
    "arr = np.array([1,2,3,4,5,6])\n",
    "np.vander(arr)\n"
   ]
  },
  {
   "cell_type": "code",
   "execution_count": null,
   "id": "8af7e185",
   "metadata": {},
   "outputs": [],
   "source": []
  },
  {
   "cell_type": "markdown",
   "id": "aafe10c7",
   "metadata": {},
   "source": [
    "2. Write a function to find moving average in an array over a window:\n",
    "Test it over [3, 5, 7, 2, 8, 10, 11, 65, 72, 81, 99, 100, 150] and window of 3."
   ]
  },
  {
   "cell_type": "code",
   "execution_count": 53,
   "id": "b2192152",
   "metadata": {},
   "outputs": [
    {
     "name": "stdout",
     "output_type": "stream",
     "text": [
      "Moving average sequence::  [5.0, 4.67, 5.67, 6.67, 9.67, 28.67, 49.33, 72.67, 84.0, 93.33]\n",
      "Moving average sequence values::  11\n"
     ]
    }
   ],
   "source": [
    "def fun(x, k):\n",
    "    \n",
    "    \"Moving average in an array over a window\"\n",
    "    if k >np.size(x):\n",
    "        return \"window size must be small or equal to length of array\"\n",
    "    elif arr.ndim!=1:\n",
    "        return \"Dimension of array must be 1\"\n",
    "    else:\n",
    "        p=0\n",
    "        q = k\n",
    "        lt=[]\n",
    "        while(q<np.size(x)):\n",
    "            lt.append(round((sum(x[p:q])/k),2))\n",
    "            p,q = p+1,q+1\n",
    "        return lt, p+1\n",
    "\n",
    "arr = np.array([3, 5, 7, 2, 8, 10, 11, 65, 72, 81, 99, 100, 150])\n",
    "res, val = fun(arr, 3)\n",
    "\n",
    "print(\"Moving average sequence:: \", res)\n",
    "print(\"Moving average sequence values:: \", val)"
   ]
  },
  {
   "cell_type": "code",
   "execution_count": null,
   "id": "847de227",
   "metadata": {},
   "outputs": [],
   "source": []
  }
 ],
 "metadata": {
  "kernelspec": {
   "display_name": "Python 3 (ipykernel)",
   "language": "python",
   "name": "python3"
  },
  "language_info": {
   "codemirror_mode": {
    "name": "ipython",
    "version": 3
   },
   "file_extension": ".py",
   "mimetype": "text/x-python",
   "name": "python",
   "nbconvert_exporter": "python",
   "pygments_lexer": "ipython3",
   "version": "3.9.7"
  }
 },
 "nbformat": 4,
 "nbformat_minor": 5
}
