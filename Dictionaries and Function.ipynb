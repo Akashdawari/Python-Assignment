{
 "cells": [
  {
   "cell_type": "markdown",
   "id": "b3cfb5c8",
   "metadata": {},
   "source": [
    "1.1 Write a Python Program(with class concepts) to find the area of the triangle using the below\n",
    "formula.\n",
    "\n",
    "area = (s*(s-a)*(s-b)*(s-c)) ** 0.5\n",
    "\n",
    "Function to take the length of the sides of triangle from user should be defined in the parent\n",
    "class and function to calculate the area should be defined in subclass."
   ]
  },
  {
   "cell_type": "code",
   "execution_count": 18,
   "id": "c8e35dab",
   "metadata": {},
   "outputs": [
    {
     "name": "stdout",
     "output_type": "stream",
     "text": [
      "This class has one methods that calculate area of the triangle.\n",
      "Also, its a child class of \"SidesOfTriangle\" class.\n",
      "Area of Triangle =  2.9047375096555625\n"
     ]
    }
   ],
   "source": [
    "class SidesOfTriangle:\n",
    "    \n",
    "    def len_sides(self, a, b, c):\n",
    "        self.a = a\n",
    "        self.b = b\n",
    "        self.c = c\n",
    "        \n",
    "    def __str__(self):\n",
    "        return \"This class has one methods that takes length of the sides of the triangle\"\n",
    "\n",
    "class Triangle(SidesOfTriangle):\n",
    "    \n",
    "    def Area(self,a,b,c):\n",
    "        \"this method takes 3 parameters as he lenght of the side of the triangle. and return area of triangle\"\n",
    "        super(Triangle, self).len_sides(a,b,c)\n",
    "        s = (self.a+self.b+self.c)/2\n",
    "        return (s*(s-self.a)*(s-self.b)*(s-self.c))**0.5\n",
    "    \n",
    "    def __str__(self):\n",
    "        return \"\"\"This class has one methods that calculate area of the triangle.\\nAlso, its a child class of \"SidesOfTriangle\" class.\"\"\"\n",
    "\n",
    "tri = Triangle()\n",
    "area = tri.Area(2,3,4)\n",
    "\n",
    "print(tri)\n",
    "\n",
    "print(\"Area of Triangle = \",area)\n"
   ]
  },
  {
   "cell_type": "code",
   "execution_count": null,
   "id": "b05b1df8",
   "metadata": {},
   "outputs": [],
   "source": []
  },
  {
   "cell_type": "markdown",
   "id": "46b9538d",
   "metadata": {},
   "source": [
    "1.2 Write a function filter_long_words() that takes a list of words and an integer n and returns\n",
    "the list of words that are longer than n."
   ]
  },
  {
   "cell_type": "code",
   "execution_count": 25,
   "id": "aaaea52b",
   "metadata": {},
   "outputs": [
    {
     "name": "stdout",
     "output_type": "stream",
     "text": [
      "['Mountain', 'pine-apple']\n"
     ]
    }
   ],
   "source": [
    "def filter_long_words(wordlist, n):\n",
    "    \"takes a list of words and an integer n and returns the list of words that are longer than n\"\n",
    "    nlt=[]\n",
    "    for i in range(len(wordlist)):\n",
    "        if len(wordlist[i])>n:\n",
    "            nlt.append(wordlist[i])\n",
    "    return nlt\n",
    "\n",
    "wordlist = [\"akash\", \"India\", \"Mountain\", \"pine-apple\"]\n",
    "\n",
    "print(filter_long_words(wordlist, 5))"
   ]
  },
  {
   "cell_type": "code",
   "execution_count": null,
   "id": "bc2a74f9",
   "metadata": {},
   "outputs": [],
   "source": []
  },
  {
   "cell_type": "markdown",
   "id": "4aa708d9",
   "metadata": {},
   "source": [
    "2.1 Write a Python program using function concept that maps list of words into a list of integers\n",
    "representing the lengths of the corresponding words."
   ]
  },
  {
   "cell_type": "code",
   "execution_count": 27,
   "id": "e23f7a47",
   "metadata": {},
   "outputs": [
    {
     "name": "stdout",
     "output_type": "stream",
     "text": [
      "[5, 5, 8, 10]\n"
     ]
    }
   ],
   "source": [
    "def lenWordList(lt):\n",
    "    \"maps list of words into a list of integers representing the lengths of the corresponding words\"\n",
    "    lenlt = []\n",
    "    for i in lt:\n",
    "        lenlt.append(len(i))\n",
    "    return lenlt\n",
    "\n",
    "wordlist = [\"akash\", \"India\", \"Mountain\", \"pine-apple\"]\n",
    "\n",
    "print(lenWordList(wordlist))"
   ]
  },
  {
   "cell_type": "code",
   "execution_count": null,
   "id": "3288084d",
   "metadata": {},
   "outputs": [],
   "source": []
  },
  {
   "cell_type": "markdown",
   "id": "1589f181",
   "metadata": {},
   "source": [
    "2.2 Write a Python function which takes a character (i.e. a string of length 1) and returns True if\n",
    "it is a vowel, False otherwise."
   ]
  },
  {
   "cell_type": "code",
   "execution_count": 29,
   "id": "90887204",
   "metadata": {},
   "outputs": [
    {
     "name": "stdout",
     "output_type": "stream",
     "text": [
      "True\n",
      "False\n",
      "False\n",
      "True\n"
     ]
    }
   ],
   "source": [
    "def is_vowel(ch):\n",
    "    \"Finds if a char is vowel or not\"\n",
    "    if ch in \"AEIOUaeiou\":\n",
    "        return True\n",
    "    return False\n",
    "\n",
    "print(is_vowel(\"a\"))\n",
    "print(is_vowel(\"B\"))\n",
    "print(is_vowel(\"z\"))\n",
    "print(is_vowel(\"U\"))"
   ]
  },
  {
   "cell_type": "code",
   "execution_count": null,
   "id": "86db2b07",
   "metadata": {},
   "outputs": [],
   "source": []
  }
 ],
 "metadata": {
  "kernelspec": {
   "display_name": "Python 3 (ipykernel)",
   "language": "python",
   "name": "python3"
  },
  "language_info": {
   "codemirror_mode": {
    "name": "ipython",
    "version": 3
   },
   "file_extension": ".py",
   "mimetype": "text/x-python",
   "name": "python",
   "nbconvert_exporter": "python",
   "pygments_lexer": "ipython3",
   "version": "3.9.7"
  }
 },
 "nbformat": 4,
 "nbformat_minor": 5
}
