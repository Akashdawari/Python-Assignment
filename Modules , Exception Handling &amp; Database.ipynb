{
 "cells": [
  {
   "cell_type": "markdown",
   "id": "2083541a",
   "metadata": {},
   "source": [
    "1. Write a function to compute 5/0 and use try/except to catch the exceptions."
   ]
  },
  {
   "cell_type": "code",
   "execution_count": 7,
   "id": "5102c7f2",
   "metadata": {},
   "outputs": [
    {
     "name": "stdout",
     "output_type": "stream",
     "text": [
      "Enter a number 0\n",
      "division by zero\n",
      "Code is working Fine....\n"
     ]
    }
   ],
   "source": [
    "\n",
    "def divfun(n):\n",
    "    \"  function to compute 5/n and use try/except to catch the exceptions \"\n",
    "    try:\n",
    "        v = 5/n\n",
    "    except (ValueError, IOError, ZeroDivisionError, Exception) as e:\n",
    "        print(e)\n",
    "    else:\n",
    "        print(\"Vlaue after dividing 5 with {a} = \".format(a=n), v)\n",
    "    finally:\n",
    "        print(\"Code is working Fine....\")\n",
    "        \n",
    "divfun(int(input(\"Enter a number \")))"
   ]
  },
  {
   "cell_type": "code",
   "execution_count": null,
   "id": "4229383e",
   "metadata": {},
   "outputs": [],
   "source": []
  },
  {
   "cell_type": "markdown",
   "id": "9390137b",
   "metadata": {},
   "source": [
    "\n",
    "\n",
    "2. Implement a Python program to generate all sentences where subject is in\n",
    "[\"Americans\", \"Indians\"] and verb is in [\"Play\", \"watch\"] and the object is in\n",
    "[\"Baseball\",\"cricket\"].\n"
   ]
  },
  {
   "cell_type": "code",
   "execution_count": 6,
   "id": "e4a2b503",
   "metadata": {},
   "outputs": [
    {
     "name": "stdout",
     "output_type": "stream",
     "text": [
      "Americans play Baseball\n",
      "Americans play Cricket\n",
      "Americans watch Baseball\n",
      "Americans watch Cricket\n",
      "Indians play Baseball\n",
      "Indians play Cricket\n",
      "Indians watch Baseball\n",
      "Indians watch Cricket\n"
     ]
    }
   ],
   "source": [
    "subjects=[\"Americans\",\"Indians\"]\n",
    "verbs=[\"play\",\"watch\"]\n",
    "objects=[\"Baseball\",\"Cricket\"]\n",
    "\n",
    "for i in subjects:\n",
    "    for j in verbs:\n",
    "        for k in objects:\n",
    "            print(i +\" \"+j+\" \"+k)"
   ]
  },
  {
   "cell_type": "code",
   "execution_count": null,
   "id": "79707639",
   "metadata": {},
   "outputs": [],
   "source": []
  }
 ],
 "metadata": {
  "kernelspec": {
   "display_name": "Python 3 (ipykernel)",
   "language": "python",
   "name": "python3"
  },
  "language_info": {
   "codemirror_mode": {
    "name": "ipython",
    "version": 3
   },
   "file_extension": ".py",
   "mimetype": "text/x-python",
   "name": "python",
   "nbconvert_exporter": "python",
   "pygments_lexer": "ipython3",
   "version": "3.9.7"
  }
 },
 "nbformat": 4,
 "nbformat_minor": 5
}
